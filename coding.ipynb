{
 "cells": [
  {
   "cell_type": "code",
   "execution_count": 1,
   "metadata": {
    "collapsed": true
   },
   "outputs": [],
   "source": [
    "import pandas as pd\n",
    "import numpy as np"
   ]
  },
  {
   "cell_type": "code",
   "execution_count": 2,
   "metadata": {
    "collapsed": true
   },
   "outputs": [],
   "source": [
    "from collections import Counter"
   ]
  },
  {
   "cell_type": "code",
   "execution_count": 3,
   "metadata": {
    "collapsed": true
   },
   "outputs": [],
   "source": [
    "raw_data = pd.read_excel('8111B换流变A相油色谱监测数据.xlsx')\n",
    "err_data = pd.read_excel('油色谱案例数据.xls')"
   ]
  },
  {
   "cell_type": "code",
   "execution_count": 4,
   "metadata": {
    "collapsed": true
   },
   "outputs": [],
   "source": [
    "def normalization(x):\n",
    "    if x == '正常':\n",
    "        x = 0\n",
    "    else:\n",
    "        x = 1\n",
    "    return x"
   ]
  },
  {
   "cell_type": "code",
   "execution_count": 5,
   "metadata": {
    "collapsed": true
   },
   "outputs": [],
   "source": [
    "err_data['故障类型'] = err_data['故障类型'].apply(lambda x : normalization(x));"
   ]
  },
  {
   "cell_type": "code",
   "execution_count": 6,
   "metadata": {
    "collapsed": true
   },
   "outputs": [],
   "source": [
    "err_data['label'] = err_data.pop('故障类型')"
   ]
  },
  {
   "cell_type": "code",
   "execution_count": 7,
   "metadata": {},
   "outputs": [
    {
     "data": {
      "text/plain": [
       "Counter({0: 18, 1: 181})"
      ]
     },
     "execution_count": 7,
     "metadata": {},
     "output_type": "execute_result"
    }
   ],
   "source": [
    "Counter(err_data['label'])"
   ]
  },
  {
   "cell_type": "code",
   "execution_count": 8,
   "metadata": {
    "collapsed": true
   },
   "outputs": [],
   "source": [
    "err_data.insert(loc=5,column='total',value=err_data['CH4'] + err_data['C2H2'] + err_data['C2H4'] + err_data['C2H6'])"
   ]
  },
  {
   "cell_type": "code",
   "execution_count": 9,
   "metadata": {
    "collapsed": true
   },
   "outputs": [],
   "source": [
    "# err_data"
   ]
  },
  {
   "cell_type": "code",
   "execution_count": 10,
   "metadata": {
    "collapsed": true
   },
   "outputs": [],
   "source": [
    "CO = raw_data.pop('CO')\n",
    "CO2 = raw_data.pop('CO2')\n",
    "O2 = raw_data.pop('O2')\n",
    "N2 = raw_data.pop('N2')\n",
    "time = raw_data.pop('时间')\n",
    "predicts = raw_data.pop('分类模型判别结果(0为正常点，1为异常点)')"
   ]
  },
  {
   "cell_type": "code",
   "execution_count": 11,
   "metadata": {
    "collapsed": true
   },
   "outputs": [],
   "source": [
    "raw_data['total'] = raw_data.pop('总烃')\n",
    "raw_data['label'] = raw_data.pop(r'聚类模型判别结果(0为正常点，1为异常点)')"
   ]
  },
  {
   "cell_type": "code",
   "execution_count": 12,
   "metadata": {
    "collapsed": true
   },
   "outputs": [],
   "source": [
    "##------------------------------------------------------\n",
    "# err_data.insert(column='H2',loc=0,value=err_data.pop('H2'))\n",
    "## 新的数据集（伪）\n",
    "# data = pd.concat([raw_data,err_data],sort=False)\n",
    "# data = data.sample(n=data.shape[0])\n",
    "# data.reset_index(drop=True).to_excel(r'监测数据异常诊断.xlsx')\n",
    "##---------------------------------------------------------"
   ]
  },
  {
   "cell_type": "code",
   "execution_count": 13,
   "metadata": {
    "collapsed": true
   },
   "outputs": [],
   "source": [
    "# raw_data"
   ]
  },
  {
   "cell_type": "code",
   "execution_count": 14,
   "metadata": {
    "collapsed": true
   },
   "outputs": [],
   "source": [
    "from decimal import Decimal\n",
    "def isEqual(data):\n",
    "    if abs(data.CH4 + data.C2H2 +  data.C2H4 +  data.C2H6 - data.total) < 1e-1:\n",
    "        return True\n",
    "    else:\n",
    "        return False"
   ]
  },
  {
   "cell_type": "code",
   "execution_count": 15,
   "metadata": {
    "collapsed": true
   },
   "outputs": [],
   "source": [
    "r = raw_data.apply(lambda x:isEqual(x),axis=1)"
   ]
  },
  {
   "cell_type": "code",
   "execution_count": 16,
   "metadata": {},
   "outputs": [
    {
     "data": {
      "text/plain": [
       "Counter({False: 252, True: 4209})"
      ]
     },
     "execution_count": 16,
     "metadata": {},
     "output_type": "execute_result"
    }
   ],
   "source": [
    "Counter(r)"
   ]
  },
  {
   "cell_type": "code",
   "execution_count": 17,
   "metadata": {
    "collapsed": true
   },
   "outputs": [],
   "source": [
    "error_sample = raw_data[~r].reset_index(drop=True)"
   ]
  },
  {
   "cell_type": "code",
   "execution_count": 18,
   "metadata": {
    "collapsed": true
   },
   "outputs": [],
   "source": [
    "error_sample['error'] = error_sample.CH4 + error_sample.C2H2 + error_sample.C2H4 + error_sample.C2H6 - error_sample.total "
   ]
  },
  {
   "cell_type": "code",
   "execution_count": 19,
   "metadata": {
    "scrolled": true
   },
   "outputs": [
    {
     "data": {
      "text/plain": [
       "(0.10000000000000053, 0.95100000000000051)"
      ]
     },
     "execution_count": 19,
     "metadata": {},
     "output_type": "execute_result"
    }
   ],
   "source": [
    "abs(error_sample.error).min(),abs(error_sample.error).max()"
   ]
  },
  {
   "cell_type": "code",
   "execution_count": 20,
   "metadata": {
    "collapsed": true
   },
   "outputs": [],
   "source": [
    "# 甲方说明：即使 总烃！=CH4 + C2H2 + C2H4 + C2H6 也不能说明设备异常\n",
    "# 因此 首先按照阈值法和三比值法标注异常数据"
   ]
  },
  {
   "cell_type": "code",
   "execution_count": 21,
   "metadata": {},
   "outputs": [
    {
     "data": {
      "text/plain": [
       "1.1519999999999999"
      ]
     },
     "execution_count": 21,
     "metadata": {},
     "output_type": "execute_result"
    }
   ],
   "source": [
    "# 原始监测数据中的C2H2最大值超过了阈值\n",
    "raw_data.C2H2.max()"
   ]
  },
  {
   "cell_type": "code",
   "execution_count": 22,
   "metadata": {},
   "outputs": [
    {
     "data": {
      "text/plain": [
       "15.199999999999999"
      ]
     },
     "execution_count": 22,
     "metadata": {},
     "output_type": "execute_result"
    }
   ],
   "source": [
    "# 原始监测数据中的H2最大值没有超过阈值\n",
    "raw_data.H2.max()"
   ]
  },
  {
   "cell_type": "code",
   "execution_count": 23,
   "metadata": {},
   "outputs": [
    {
     "data": {
      "text/plain": [
       "1.1519999999999999"
      ]
     },
     "execution_count": 23,
     "metadata": {},
     "output_type": "execute_result"
    }
   ],
   "source": [
    "# 原始监测数据中的C2H2最大值超过了阈值\n",
    "raw_data.C2H2.max()"
   ]
  },
  {
   "cell_type": "code",
   "execution_count": 24,
   "metadata": {
    "collapsed": true
   },
   "outputs": [],
   "source": [
    "warning_data = raw_data[raw_data.C2H2 - 0.8 > 1e-5]"
   ]
  },
  {
   "cell_type": "code",
   "execution_count": 25,
   "metadata": {
    "collapsed": true
   },
   "outputs": [],
   "source": [
    "# 三比值法诊断warning_data是否出现异常\n",
    "\n",
    "def C2H2_C2H4(data):\n",
    "    tmp = data.C2H2 / data.C2H4\n",
    "    if tmp < 0.1:\n",
    "        return 0\n",
    "    elif tmp >= 3:\n",
    "        return 2\n",
    "    else:\n",
    "        return 1\n",
    "\n",
    "def CH4_H2(data):\n",
    "    tmp = data.CH4 / data.H2\n",
    "    if tmp < 0.1:\n",
    "        return 1\n",
    "    elif tmp >= 1:\n",
    "        return 2\n",
    "    else:\n",
    "        return 0\n",
    "    \n",
    "def C2H4_C2H6(data):\n",
    "    tmp = data.C2H4 /data.C2H6\n",
    "    if tmp < 1:\n",
    "        return 0\n",
    "    elif tmp >= 3:\n",
    "        return 2\n",
    "    else:\n",
    "        return 1"
   ]
  },
  {
   "cell_type": "code",
   "execution_count": 26,
   "metadata": {},
   "outputs": [
    {
     "name": "stderr",
     "output_type": "stream",
     "text": [
      "e:\\python\\lib\\site-packages\\ipykernel_launcher.py:1: SettingWithCopyWarning: \n",
      "A value is trying to be set on a copy of a slice from a DataFrame.\n",
      "Try using .loc[row_indexer,col_indexer] = value instead\n",
      "\n",
      "See the caveats in the documentation: http://pandas.pydata.org/pandas-docs/stable/indexing.html#indexing-view-versus-copy\n",
      "  \"\"\"Entry point for launching an IPython kernel.\n",
      "e:\\python\\lib\\site-packages\\ipykernel_launcher.py:2: SettingWithCopyWarning: \n",
      "A value is trying to be set on a copy of a slice from a DataFrame.\n",
      "Try using .loc[row_indexer,col_indexer] = value instead\n",
      "\n",
      "See the caveats in the documentation: http://pandas.pydata.org/pandas-docs/stable/indexing.html#indexing-view-versus-copy\n",
      "  \n",
      "e:\\python\\lib\\site-packages\\ipykernel_launcher.py:3: SettingWithCopyWarning: \n",
      "A value is trying to be set on a copy of a slice from a DataFrame.\n",
      "Try using .loc[row_indexer,col_indexer] = value instead\n",
      "\n",
      "See the caveats in the documentation: http://pandas.pydata.org/pandas-docs/stable/indexing.html#indexing-view-versus-copy\n",
      "  This is separate from the ipykernel package so we can avoid doing imports until\n"
     ]
    }
   ],
   "source": [
    "warning_data['C2H2/C2H4'] = warning_data.apply(lambda x : C2H2_C2H4(x),axis=1)\n",
    "warning_data['CH4/H2'] = warning_data.apply(lambda x : CH4_H2(x),axis=1)\n",
    "warning_data['C2H4/C2H6'] = warning_data.apply(lambda x : C2H4_C2H6(x),axis=1)"
   ]
  },
  {
   "cell_type": "code",
   "execution_count": 27,
   "metadata": {},
   "outputs": [
    {
     "data": {
      "text/html": [
       "<div>\n",
       "<style>\n",
       "    .dataframe thead tr:only-child th {\n",
       "        text-align: right;\n",
       "    }\n",
       "\n",
       "    .dataframe thead th {\n",
       "        text-align: left;\n",
       "    }\n",
       "\n",
       "    .dataframe tbody tr th {\n",
       "        vertical-align: top;\n",
       "    }\n",
       "</style>\n",
       "<table border=\"1\" class=\"dataframe\">\n",
       "  <thead>\n",
       "    <tr style=\"text-align: right;\">\n",
       "      <th></th>\n",
       "      <th>H2</th>\n",
       "      <th>CH4</th>\n",
       "      <th>C2H6</th>\n",
       "      <th>C2H4</th>\n",
       "      <th>C2H2</th>\n",
       "      <th>total</th>\n",
       "      <th>label</th>\n",
       "      <th>C2H2/C2H4</th>\n",
       "      <th>CH4/H2</th>\n",
       "      <th>C2H4/C2H6</th>\n",
       "    </tr>\n",
       "  </thead>\n",
       "  <tbody>\n",
       "    <tr>\n",
       "      <th>1383</th>\n",
       "      <td>15.000</td>\n",
       "      <td>8.600</td>\n",
       "      <td>1.600</td>\n",
       "      <td>1.100</td>\n",
       "      <td>1.000</td>\n",
       "      <td>12.500</td>\n",
       "      <td>0</td>\n",
       "      <td>1</td>\n",
       "      <td>0</td>\n",
       "      <td>0</td>\n",
       "    </tr>\n",
       "    <tr>\n",
       "      <th>1393</th>\n",
       "      <td>14.000</td>\n",
       "      <td>8.000</td>\n",
       "      <td>1.800</td>\n",
       "      <td>1.000</td>\n",
       "      <td>1.000</td>\n",
       "      <td>11.800</td>\n",
       "      <td>0</td>\n",
       "      <td>1</td>\n",
       "      <td>0</td>\n",
       "      <td>0</td>\n",
       "    </tr>\n",
       "    <tr>\n",
       "      <th>1403</th>\n",
       "      <td>14.000</td>\n",
       "      <td>8.800</td>\n",
       "      <td>1.100</td>\n",
       "      <td>1.100</td>\n",
       "      <td>1.000</td>\n",
       "      <td>12.500</td>\n",
       "      <td>0</td>\n",
       "      <td>1</td>\n",
       "      <td>0</td>\n",
       "      <td>1</td>\n",
       "    </tr>\n",
       "    <tr>\n",
       "      <th>2546</th>\n",
       "      <td>12.000</td>\n",
       "      <td>10.771</td>\n",
       "      <td>1.369</td>\n",
       "      <td>0.501</td>\n",
       "      <td>1.000</td>\n",
       "      <td>14.240</td>\n",
       "      <td>0</td>\n",
       "      <td>1</td>\n",
       "      <td>0</td>\n",
       "      <td>0</td>\n",
       "    </tr>\n",
       "    <tr>\n",
       "      <th>2561</th>\n",
       "      <td>11.000</td>\n",
       "      <td>9.718</td>\n",
       "      <td>1.448</td>\n",
       "      <td>0.408</td>\n",
       "      <td>1.000</td>\n",
       "      <td>12.924</td>\n",
       "      <td>0</td>\n",
       "      <td>1</td>\n",
       "      <td>0</td>\n",
       "      <td>0</td>\n",
       "    </tr>\n",
       "    <tr>\n",
       "      <th>4127</th>\n",
       "      <td>6.061</td>\n",
       "      <td>11.942</td>\n",
       "      <td>0.360</td>\n",
       "      <td>0.619</td>\n",
       "      <td>0.872</td>\n",
       "      <td>13.793</td>\n",
       "      <td>0</td>\n",
       "      <td>1</td>\n",
       "      <td>2</td>\n",
       "      <td>1</td>\n",
       "    </tr>\n",
       "    <tr>\n",
       "      <th>4230</th>\n",
       "      <td>6.061</td>\n",
       "      <td>11.722</td>\n",
       "      <td>1.822</td>\n",
       "      <td>0.333</td>\n",
       "      <td>1.152</td>\n",
       "      <td>15.028</td>\n",
       "      <td>1</td>\n",
       "      <td>2</td>\n",
       "      <td>2</td>\n",
       "      <td>0</td>\n",
       "    </tr>\n",
       "  </tbody>\n",
       "</table>\n",
       "</div>"
      ],
      "text/plain": [
       "          H2     CH4   C2H6   C2H4   C2H2   total  label  C2H2/C2H4  CH4/H2  \\\n",
       "1383  15.000   8.600  1.600  1.100  1.000  12.500      0          1       0   \n",
       "1393  14.000   8.000  1.800  1.000  1.000  11.800      0          1       0   \n",
       "1403  14.000   8.800  1.100  1.100  1.000  12.500      0          1       0   \n",
       "2546  12.000  10.771  1.369  0.501  1.000  14.240      0          1       0   \n",
       "2561  11.000   9.718  1.448  0.408  1.000  12.924      0          1       0   \n",
       "4127   6.061  11.942  0.360  0.619  0.872  13.793      0          1       2   \n",
       "4230   6.061  11.722  1.822  0.333  1.152  15.028      1          2       2   \n",
       "\n",
       "      C2H4/C2H6  \n",
       "1383          0  \n",
       "1393          0  \n",
       "1403          1  \n",
       "2546          0  \n",
       "2561          0  \n",
       "4127          1  \n",
       "4230          0  "
      ]
     },
     "execution_count": 27,
     "metadata": {},
     "output_type": "execute_result"
    }
   ],
   "source": [
    "warning_data"
   ]
  },
  {
   "cell_type": "code",
   "execution_count": 28,
   "metadata": {},
   "outputs": [
    {
     "data": {
      "text/html": [
       "<div>\n",
       "<style>\n",
       "    .dataframe thead tr:only-child th {\n",
       "        text-align: right;\n",
       "    }\n",
       "\n",
       "    .dataframe thead th {\n",
       "        text-align: left;\n",
       "    }\n",
       "\n",
       "    .dataframe tbody tr th {\n",
       "        vertical-align: top;\n",
       "    }\n",
       "</style>\n",
       "<table border=\"1\" class=\"dataframe\">\n",
       "  <thead>\n",
       "    <tr style=\"text-align: right;\">\n",
       "      <th></th>\n",
       "      <th>CH4</th>\n",
       "      <th>H2</th>\n",
       "      <th>C2H2</th>\n",
       "      <th>C2H4</th>\n",
       "      <th>C2H6</th>\n",
       "      <th>total</th>\n",
       "      <th>label</th>\n",
       "    </tr>\n",
       "  </thead>\n",
       "  <tbody>\n",
       "  </tbody>\n",
       "</table>\n",
       "</div>"
      ],
      "text/plain": [
       "Empty DataFrame\n",
       "Columns: [CH4, H2, C2H2, C2H4, C2H6, total, label]\n",
       "Index: []"
      ]
     },
     "execution_count": 28,
     "metadata": {},
     "output_type": "execute_result"
    }
   ],
   "source": [
    "err_data[err_data.H2 == 6.061]"
   ]
  },
  {
   "cell_type": "code",
   "execution_count": 48,
   "metadata": {},
   "outputs": [
    {
     "data": {
      "text/plain": [
       "Counter({0: 4454, 1: 7})"
      ]
     },
     "execution_count": 48,
     "metadata": {},
     "output_type": "execute_result"
    }
   ],
   "source": [
    "Counter(raw_data.label)\n"
   ]
  },
  {
   "cell_type": "code",
   "execution_count": 30,
   "metadata": {
    "scrolled": true
   },
   "outputs": [
    {
     "data": {
      "text/plain": [
       "Counter({0: 18, 1: 181})"
      ]
     },
     "execution_count": 30,
     "metadata": {},
     "output_type": "execute_result"
    }
   ],
   "source": [
    "Counter(err_data.label)"
   ]
  },
  {
   "cell_type": "code",
   "execution_count": 31,
   "metadata": {
    "collapsed": true
   },
   "outputs": [],
   "source": [
    "raw_data.label = 0"
   ]
  },
  {
   "cell_type": "code",
   "execution_count": 49,
   "metadata": {
    "collapsed": true
   },
   "outputs": [
    {
     "data": {
      "text/html": [
       "<div>\n",
       "<style>\n",
       "    .dataframe thead tr:only-child th {\n",
       "        text-align: right;\n",
       "    }\n",
       "\n",
       "    .dataframe thead th {\n",
       "        text-align: left;\n",
       "    }\n",
       "\n",
       "    .dataframe tbody tr th {\n",
       "        vertical-align: top;\n",
       "    }\n",
       "</style>\n",
       "<table border=\"1\" class=\"dataframe\">\n",
       "  <thead>\n",
       "    <tr style=\"text-align: right;\">\n",
       "      <th></th>\n",
       "      <th>H2</th>\n",
       "      <th>CH4</th>\n",
       "      <th>C2H6</th>\n",
       "      <th>C2H4</th>\n",
       "      <th>C2H2</th>\n",
       "      <th>total</th>\n",
       "      <th>label</th>\n",
       "    </tr>\n",
       "  </thead>\n",
       "  <tbody>\n",
       "    <tr>\n",
       "      <th>1383</th>\n",
       "      <td>15.000</td>\n",
       "      <td>8.600</td>\n",
       "      <td>1.600</td>\n",
       "      <td>1.100</td>\n",
       "      <td>1.000</td>\n",
       "      <td>12.500</td>\n",
       "      <td>1</td>\n",
       "    </tr>\n",
       "    <tr>\n",
       "      <th>1393</th>\n",
       "      <td>14.000</td>\n",
       "      <td>8.000</td>\n",
       "      <td>1.800</td>\n",
       "      <td>1.000</td>\n",
       "      <td>1.000</td>\n",
       "      <td>11.800</td>\n",
       "      <td>1</td>\n",
       "    </tr>\n",
       "    <tr>\n",
       "      <th>1403</th>\n",
       "      <td>14.000</td>\n",
       "      <td>8.800</td>\n",
       "      <td>1.100</td>\n",
       "      <td>1.100</td>\n",
       "      <td>1.000</td>\n",
       "      <td>12.500</td>\n",
       "      <td>1</td>\n",
       "    </tr>\n",
       "    <tr>\n",
       "      <th>2546</th>\n",
       "      <td>12.000</td>\n",
       "      <td>10.771</td>\n",
       "      <td>1.369</td>\n",
       "      <td>0.501</td>\n",
       "      <td>1.000</td>\n",
       "      <td>14.240</td>\n",
       "      <td>1</td>\n",
       "    </tr>\n",
       "    <tr>\n",
       "      <th>2561</th>\n",
       "      <td>11.000</td>\n",
       "      <td>9.718</td>\n",
       "      <td>1.448</td>\n",
       "      <td>0.408</td>\n",
       "      <td>1.000</td>\n",
       "      <td>12.924</td>\n",
       "      <td>1</td>\n",
       "    </tr>\n",
       "    <tr>\n",
       "      <th>4127</th>\n",
       "      <td>6.061</td>\n",
       "      <td>11.942</td>\n",
       "      <td>0.360</td>\n",
       "      <td>0.619</td>\n",
       "      <td>0.872</td>\n",
       "      <td>13.793</td>\n",
       "      <td>1</td>\n",
       "    </tr>\n",
       "    <tr>\n",
       "      <th>4230</th>\n",
       "      <td>6.061</td>\n",
       "      <td>11.722</td>\n",
       "      <td>1.822</td>\n",
       "      <td>0.333</td>\n",
       "      <td>1.152</td>\n",
       "      <td>15.028</td>\n",
       "      <td>1</td>\n",
       "    </tr>\n",
       "  </tbody>\n",
       "</table>\n",
       "</div>"
      ],
      "text/plain": [
       "          H2     CH4   C2H6   C2H4   C2H2   total  label\n",
       "1383  15.000   8.600  1.600  1.100  1.000  12.500      1\n",
       "1393  14.000   8.000  1.800  1.000  1.000  11.800      1\n",
       "1403  14.000   8.800  1.100  1.100  1.000  12.500      1\n",
       "2546  12.000  10.771  1.369  0.501  1.000  14.240      1\n",
       "2561  11.000   9.718  1.448  0.408  1.000  12.924      1\n",
       "4127   6.061  11.942  0.360  0.619  0.872  13.793      1\n",
       "4230   6.061  11.722  1.822  0.333  1.152  15.028      1"
      ]
     },
     "execution_count": 49,
     "metadata": {},
     "output_type": "execute_result"
    }
   ],
   "source": [
    "raw_data[raw_data.C2H2 - 0.8 > 1e-5]"
   ]
  },
  {
   "cell_type": "code",
   "execution_count": 47,
   "metadata": {
    "collapsed": true
   },
   "outputs": [
    {
     "data": {
      "text/html": [
       "<div>\n",
       "<style>\n",
       "    .dataframe thead tr:only-child th {\n",
       "        text-align: right;\n",
       "    }\n",
       "\n",
       "    .dataframe thead th {\n",
       "        text-align: left;\n",
       "    }\n",
       "\n",
       "    .dataframe tbody tr th {\n",
       "        vertical-align: top;\n",
       "    }\n",
       "</style>\n",
       "<table border=\"1\" class=\"dataframe\">\n",
       "  <thead>\n",
       "    <tr style=\"text-align: right;\">\n",
       "      <th></th>\n",
       "      <th>H2</th>\n",
       "      <th>CH4</th>\n",
       "      <th>C2H6</th>\n",
       "      <th>C2H4</th>\n",
       "      <th>C2H2</th>\n",
       "      <th>total</th>\n",
       "      <th>label</th>\n",
       "    </tr>\n",
       "  </thead>\n",
       "  <tbody>\n",
       "    <tr>\n",
       "      <th>0</th>\n",
       "      <td>10.300</td>\n",
       "      <td>4.500</td>\n",
       "      <td>1.300</td>\n",
       "      <td>0.500</td>\n",
       "      <td>0.000</td>\n",
       "      <td>6.300</td>\n",
       "      <td>0</td>\n",
       "    </tr>\n",
       "    <tr>\n",
       "      <th>1</th>\n",
       "      <td>10.300</td>\n",
       "      <td>4.500</td>\n",
       "      <td>1.300</td>\n",
       "      <td>0.500</td>\n",
       "      <td>0.000</td>\n",
       "      <td>6.300</td>\n",
       "      <td>0</td>\n",
       "    </tr>\n",
       "    <tr>\n",
       "      <th>2</th>\n",
       "      <td>10.400</td>\n",
       "      <td>4.000</td>\n",
       "      <td>1.600</td>\n",
       "      <td>0.700</td>\n",
       "      <td>0.000</td>\n",
       "      <td>6.300</td>\n",
       "      <td>0</td>\n",
       "    </tr>\n",
       "    <tr>\n",
       "      <th>3</th>\n",
       "      <td>10.300</td>\n",
       "      <td>3.600</td>\n",
       "      <td>1.800</td>\n",
       "      <td>0.800</td>\n",
       "      <td>0.000</td>\n",
       "      <td>6.200</td>\n",
       "      <td>0</td>\n",
       "    </tr>\n",
       "    <tr>\n",
       "      <th>4</th>\n",
       "      <td>10.200</td>\n",
       "      <td>3.900</td>\n",
       "      <td>1.100</td>\n",
       "      <td>0.700</td>\n",
       "      <td>0.000</td>\n",
       "      <td>5.700</td>\n",
       "      <td>0</td>\n",
       "    </tr>\n",
       "    <tr>\n",
       "      <th>5</th>\n",
       "      <td>10.100</td>\n",
       "      <td>5.200</td>\n",
       "      <td>0.400</td>\n",
       "      <td>0.600</td>\n",
       "      <td>0.000</td>\n",
       "      <td>6.200</td>\n",
       "      <td>0</td>\n",
       "    </tr>\n",
       "    <tr>\n",
       "      <th>6</th>\n",
       "      <td>10.000</td>\n",
       "      <td>3.900</td>\n",
       "      <td>1.500</td>\n",
       "      <td>0.500</td>\n",
       "      <td>0.000</td>\n",
       "      <td>5.900</td>\n",
       "      <td>0</td>\n",
       "    </tr>\n",
       "    <tr>\n",
       "      <th>7</th>\n",
       "      <td>10.300</td>\n",
       "      <td>5.400</td>\n",
       "      <td>0.400</td>\n",
       "      <td>0.400</td>\n",
       "      <td>0.000</td>\n",
       "      <td>6.200</td>\n",
       "      <td>0</td>\n",
       "    </tr>\n",
       "    <tr>\n",
       "      <th>8</th>\n",
       "      <td>10.400</td>\n",
       "      <td>3.900</td>\n",
       "      <td>1.300</td>\n",
       "      <td>0.800</td>\n",
       "      <td>0.000</td>\n",
       "      <td>6.000</td>\n",
       "      <td>0</td>\n",
       "    </tr>\n",
       "    <tr>\n",
       "      <th>9</th>\n",
       "      <td>10.500</td>\n",
       "      <td>3.900</td>\n",
       "      <td>1.600</td>\n",
       "      <td>0.800</td>\n",
       "      <td>0.000</td>\n",
       "      <td>6.300</td>\n",
       "      <td>0</td>\n",
       "    </tr>\n",
       "    <tr>\n",
       "      <th>10</th>\n",
       "      <td>10.400</td>\n",
       "      <td>4.300</td>\n",
       "      <td>1.200</td>\n",
       "      <td>0.500</td>\n",
       "      <td>0.000</td>\n",
       "      <td>6.000</td>\n",
       "      <td>0</td>\n",
       "    </tr>\n",
       "    <tr>\n",
       "      <th>11</th>\n",
       "      <td>10.400</td>\n",
       "      <td>3.500</td>\n",
       "      <td>1.700</td>\n",
       "      <td>0.400</td>\n",
       "      <td>0.000</td>\n",
       "      <td>5.600</td>\n",
       "      <td>0</td>\n",
       "    </tr>\n",
       "    <tr>\n",
       "      <th>12</th>\n",
       "      <td>10.200</td>\n",
       "      <td>4.300</td>\n",
       "      <td>1.800</td>\n",
       "      <td>0.400</td>\n",
       "      <td>0.000</td>\n",
       "      <td>6.500</td>\n",
       "      <td>0</td>\n",
       "    </tr>\n",
       "    <tr>\n",
       "      <th>13</th>\n",
       "      <td>10.200</td>\n",
       "      <td>3.700</td>\n",
       "      <td>1.900</td>\n",
       "      <td>0.800</td>\n",
       "      <td>0.000</td>\n",
       "      <td>6.400</td>\n",
       "      <td>0</td>\n",
       "    </tr>\n",
       "    <tr>\n",
       "      <th>14</th>\n",
       "      <td>10.900</td>\n",
       "      <td>4.600</td>\n",
       "      <td>1.000</td>\n",
       "      <td>0.400</td>\n",
       "      <td>0.000</td>\n",
       "      <td>6.000</td>\n",
       "      <td>0</td>\n",
       "    </tr>\n",
       "    <tr>\n",
       "      <th>15</th>\n",
       "      <td>10.900</td>\n",
       "      <td>3.200</td>\n",
       "      <td>1.400</td>\n",
       "      <td>0.400</td>\n",
       "      <td>0.000</td>\n",
       "      <td>5.000</td>\n",
       "      <td>0</td>\n",
       "    </tr>\n",
       "    <tr>\n",
       "      <th>16</th>\n",
       "      <td>10.900</td>\n",
       "      <td>3.400</td>\n",
       "      <td>2.100</td>\n",
       "      <td>0.500</td>\n",
       "      <td>0.000</td>\n",
       "      <td>6.000</td>\n",
       "      <td>0</td>\n",
       "    </tr>\n",
       "    <tr>\n",
       "      <th>17</th>\n",
       "      <td>11.000</td>\n",
       "      <td>4.300</td>\n",
       "      <td>1.100</td>\n",
       "      <td>0.700</td>\n",
       "      <td>0.000</td>\n",
       "      <td>6.100</td>\n",
       "      <td>0</td>\n",
       "    </tr>\n",
       "    <tr>\n",
       "      <th>18</th>\n",
       "      <td>10.900</td>\n",
       "      <td>5.500</td>\n",
       "      <td>0.300</td>\n",
       "      <td>0.500</td>\n",
       "      <td>0.000</td>\n",
       "      <td>6.300</td>\n",
       "      <td>0</td>\n",
       "    </tr>\n",
       "    <tr>\n",
       "      <th>19</th>\n",
       "      <td>10.800</td>\n",
       "      <td>4.800</td>\n",
       "      <td>1.100</td>\n",
       "      <td>0.400</td>\n",
       "      <td>0.000</td>\n",
       "      <td>6.300</td>\n",
       "      <td>0</td>\n",
       "    </tr>\n",
       "    <tr>\n",
       "      <th>20</th>\n",
       "      <td>10.800</td>\n",
       "      <td>3.900</td>\n",
       "      <td>1.600</td>\n",
       "      <td>0.800</td>\n",
       "      <td>0.000</td>\n",
       "      <td>6.300</td>\n",
       "      <td>0</td>\n",
       "    </tr>\n",
       "    <tr>\n",
       "      <th>21</th>\n",
       "      <td>10.900</td>\n",
       "      <td>5.400</td>\n",
       "      <td>1.200</td>\n",
       "      <td>0.700</td>\n",
       "      <td>0.000</td>\n",
       "      <td>7.300</td>\n",
       "      <td>0</td>\n",
       "    </tr>\n",
       "    <tr>\n",
       "      <th>22</th>\n",
       "      <td>10.900</td>\n",
       "      <td>4.700</td>\n",
       "      <td>0.900</td>\n",
       "      <td>0.700</td>\n",
       "      <td>0.000</td>\n",
       "      <td>6.300</td>\n",
       "      <td>0</td>\n",
       "    </tr>\n",
       "    <tr>\n",
       "      <th>23</th>\n",
       "      <td>10.700</td>\n",
       "      <td>4.300</td>\n",
       "      <td>1.300</td>\n",
       "      <td>0.500</td>\n",
       "      <td>0.000</td>\n",
       "      <td>6.100</td>\n",
       "      <td>0</td>\n",
       "    </tr>\n",
       "    <tr>\n",
       "      <th>24</th>\n",
       "      <td>10.600</td>\n",
       "      <td>4.200</td>\n",
       "      <td>1.400</td>\n",
       "      <td>0.700</td>\n",
       "      <td>0.000</td>\n",
       "      <td>6.300</td>\n",
       "      <td>0</td>\n",
       "    </tr>\n",
       "    <tr>\n",
       "      <th>25</th>\n",
       "      <td>10.500</td>\n",
       "      <td>4.700</td>\n",
       "      <td>1.100</td>\n",
       "      <td>0.700</td>\n",
       "      <td>0.000</td>\n",
       "      <td>6.500</td>\n",
       "      <td>0</td>\n",
       "    </tr>\n",
       "    <tr>\n",
       "      <th>26</th>\n",
       "      <td>10.700</td>\n",
       "      <td>5.000</td>\n",
       "      <td>1.000</td>\n",
       "      <td>0.400</td>\n",
       "      <td>0.000</td>\n",
       "      <td>6.400</td>\n",
       "      <td>0</td>\n",
       "    </tr>\n",
       "    <tr>\n",
       "      <th>27</th>\n",
       "      <td>10.500</td>\n",
       "      <td>4.000</td>\n",
       "      <td>1.300</td>\n",
       "      <td>0.500</td>\n",
       "      <td>0.000</td>\n",
       "      <td>5.800</td>\n",
       "      <td>0</td>\n",
       "    </tr>\n",
       "    <tr>\n",
       "      <th>28</th>\n",
       "      <td>10.800</td>\n",
       "      <td>4.100</td>\n",
       "      <td>1.300</td>\n",
       "      <td>0.100</td>\n",
       "      <td>0.000</td>\n",
       "      <td>5.500</td>\n",
       "      <td>0</td>\n",
       "    </tr>\n",
       "    <tr>\n",
       "      <th>29</th>\n",
       "      <td>10.700</td>\n",
       "      <td>4.500</td>\n",
       "      <td>1.100</td>\n",
       "      <td>0.600</td>\n",
       "      <td>0.000</td>\n",
       "      <td>6.200</td>\n",
       "      <td>0</td>\n",
       "    </tr>\n",
       "    <tr>\n",
       "      <th>...</th>\n",
       "      <td>...</td>\n",
       "      <td>...</td>\n",
       "      <td>...</td>\n",
       "      <td>...</td>\n",
       "      <td>...</td>\n",
       "      <td>...</td>\n",
       "      <td>...</td>\n",
       "    </tr>\n",
       "    <tr>\n",
       "      <th>4431</th>\n",
       "      <td>5.501</td>\n",
       "      <td>9.544</td>\n",
       "      <td>2.237</td>\n",
       "      <td>0.143</td>\n",
       "      <td>0.000</td>\n",
       "      <td>11.924</td>\n",
       "      <td>0</td>\n",
       "    </tr>\n",
       "    <tr>\n",
       "      <th>4432</th>\n",
       "      <td>5.508</td>\n",
       "      <td>9.691</td>\n",
       "      <td>3.659</td>\n",
       "      <td>0.245</td>\n",
       "      <td>0.002</td>\n",
       "      <td>13.596</td>\n",
       "      <td>0</td>\n",
       "    </tr>\n",
       "    <tr>\n",
       "      <th>4433</th>\n",
       "      <td>5.566</td>\n",
       "      <td>10.502</td>\n",
       "      <td>2.602</td>\n",
       "      <td>0.284</td>\n",
       "      <td>0.000</td>\n",
       "      <td>13.387</td>\n",
       "      <td>0</td>\n",
       "    </tr>\n",
       "    <tr>\n",
       "      <th>4434</th>\n",
       "      <td>5.430</td>\n",
       "      <td>9.296</td>\n",
       "      <td>3.099</td>\n",
       "      <td>0.045</td>\n",
       "      <td>0.000</td>\n",
       "      <td>12.440</td>\n",
       "      <td>0</td>\n",
       "    </tr>\n",
       "    <tr>\n",
       "      <th>4435</th>\n",
       "      <td>5.445</td>\n",
       "      <td>10.854</td>\n",
       "      <td>1.863</td>\n",
       "      <td>0.248</td>\n",
       "      <td>0.290</td>\n",
       "      <td>13.254</td>\n",
       "      <td>0</td>\n",
       "    </tr>\n",
       "    <tr>\n",
       "      <th>4436</th>\n",
       "      <td>5.387</td>\n",
       "      <td>10.007</td>\n",
       "      <td>2.723</td>\n",
       "      <td>0.418</td>\n",
       "      <td>0.000</td>\n",
       "      <td>13.148</td>\n",
       "      <td>0</td>\n",
       "    </tr>\n",
       "    <tr>\n",
       "      <th>4437</th>\n",
       "      <td>5.229</td>\n",
       "      <td>10.767</td>\n",
       "      <td>2.297</td>\n",
       "      <td>0.642</td>\n",
       "      <td>0.404</td>\n",
       "      <td>14.110</td>\n",
       "      <td>0</td>\n",
       "    </tr>\n",
       "    <tr>\n",
       "      <th>4438</th>\n",
       "      <td>5.258</td>\n",
       "      <td>10.451</td>\n",
       "      <td>2.103</td>\n",
       "      <td>0.156</td>\n",
       "      <td>0.000</td>\n",
       "      <td>12.711</td>\n",
       "      <td>0</td>\n",
       "    </tr>\n",
       "    <tr>\n",
       "      <th>4439</th>\n",
       "      <td>5.252</td>\n",
       "      <td>9.173</td>\n",
       "      <td>2.536</td>\n",
       "      <td>0.418</td>\n",
       "      <td>0.000</td>\n",
       "      <td>12.127</td>\n",
       "      <td>0</td>\n",
       "    </tr>\n",
       "    <tr>\n",
       "      <th>4440</th>\n",
       "      <td>5.298</td>\n",
       "      <td>8.978</td>\n",
       "      <td>3.068</td>\n",
       "      <td>0.331</td>\n",
       "      <td>0.000</td>\n",
       "      <td>12.377</td>\n",
       "      <td>0</td>\n",
       "    </tr>\n",
       "    <tr>\n",
       "      <th>4441</th>\n",
       "      <td>5.299</td>\n",
       "      <td>8.347</td>\n",
       "      <td>3.009</td>\n",
       "      <td>0.197</td>\n",
       "      <td>0.000</td>\n",
       "      <td>11.552</td>\n",
       "      <td>0</td>\n",
       "    </tr>\n",
       "    <tr>\n",
       "      <th>4442</th>\n",
       "      <td>5.368</td>\n",
       "      <td>9.120</td>\n",
       "      <td>2.693</td>\n",
       "      <td>0.140</td>\n",
       "      <td>0.463</td>\n",
       "      <td>12.416</td>\n",
       "      <td>0</td>\n",
       "    </tr>\n",
       "    <tr>\n",
       "      <th>4443</th>\n",
       "      <td>5.333</td>\n",
       "      <td>8.851</td>\n",
       "      <td>1.953</td>\n",
       "      <td>0.120</td>\n",
       "      <td>0.000</td>\n",
       "      <td>10.925</td>\n",
       "      <td>0</td>\n",
       "    </tr>\n",
       "    <tr>\n",
       "      <th>4444</th>\n",
       "      <td>5.302</td>\n",
       "      <td>8.790</td>\n",
       "      <td>2.754</td>\n",
       "      <td>0.277</td>\n",
       "      <td>0.000</td>\n",
       "      <td>11.821</td>\n",
       "      <td>0</td>\n",
       "    </tr>\n",
       "    <tr>\n",
       "      <th>4445</th>\n",
       "      <td>5.299</td>\n",
       "      <td>8.560</td>\n",
       "      <td>2.873</td>\n",
       "      <td>0.061</td>\n",
       "      <td>0.000</td>\n",
       "      <td>11.493</td>\n",
       "      <td>0</td>\n",
       "    </tr>\n",
       "    <tr>\n",
       "      <th>4446</th>\n",
       "      <td>5.254</td>\n",
       "      <td>7.672</td>\n",
       "      <td>3.657</td>\n",
       "      <td>0.204</td>\n",
       "      <td>0.000</td>\n",
       "      <td>11.533</td>\n",
       "      <td>0</td>\n",
       "    </tr>\n",
       "    <tr>\n",
       "      <th>4447</th>\n",
       "      <td>5.341</td>\n",
       "      <td>10.302</td>\n",
       "      <td>1.126</td>\n",
       "      <td>0.318</td>\n",
       "      <td>0.000</td>\n",
       "      <td>11.746</td>\n",
       "      <td>0</td>\n",
       "    </tr>\n",
       "    <tr>\n",
       "      <th>4448</th>\n",
       "      <td>5.341</td>\n",
       "      <td>9.728</td>\n",
       "      <td>0.857</td>\n",
       "      <td>0.246</td>\n",
       "      <td>0.000</td>\n",
       "      <td>10.831</td>\n",
       "      <td>0</td>\n",
       "    </tr>\n",
       "    <tr>\n",
       "      <th>4449</th>\n",
       "      <td>5.174</td>\n",
       "      <td>7.980</td>\n",
       "      <td>3.576</td>\n",
       "      <td>0.511</td>\n",
       "      <td>0.000</td>\n",
       "      <td>12.067</td>\n",
       "      <td>0</td>\n",
       "    </tr>\n",
       "    <tr>\n",
       "      <th>4450</th>\n",
       "      <td>5.253</td>\n",
       "      <td>9.185</td>\n",
       "      <td>2.020</td>\n",
       "      <td>0.146</td>\n",
       "      <td>0.000</td>\n",
       "      <td>11.351</td>\n",
       "      <td>0</td>\n",
       "    </tr>\n",
       "    <tr>\n",
       "      <th>4451</th>\n",
       "      <td>5.357</td>\n",
       "      <td>10.394</td>\n",
       "      <td>1.565</td>\n",
       "      <td>0.207</td>\n",
       "      <td>0.000</td>\n",
       "      <td>12.166</td>\n",
       "      <td>0</td>\n",
       "    </tr>\n",
       "    <tr>\n",
       "      <th>4452</th>\n",
       "      <td>5.312</td>\n",
       "      <td>9.653</td>\n",
       "      <td>1.416</td>\n",
       "      <td>0.451</td>\n",
       "      <td>0.000</td>\n",
       "      <td>11.520</td>\n",
       "      <td>0</td>\n",
       "    </tr>\n",
       "    <tr>\n",
       "      <th>4453</th>\n",
       "      <td>5.366</td>\n",
       "      <td>10.300</td>\n",
       "      <td>1.693</td>\n",
       "      <td>0.322</td>\n",
       "      <td>0.000</td>\n",
       "      <td>12.316</td>\n",
       "      <td>0</td>\n",
       "    </tr>\n",
       "    <tr>\n",
       "      <th>4454</th>\n",
       "      <td>5.441</td>\n",
       "      <td>9.209</td>\n",
       "      <td>2.876</td>\n",
       "      <td>0.432</td>\n",
       "      <td>0.000</td>\n",
       "      <td>12.517</td>\n",
       "      <td>0</td>\n",
       "    </tr>\n",
       "    <tr>\n",
       "      <th>4455</th>\n",
       "      <td>5.421</td>\n",
       "      <td>10.144</td>\n",
       "      <td>0.860</td>\n",
       "      <td>0.710</td>\n",
       "      <td>0.000</td>\n",
       "      <td>11.713</td>\n",
       "      <td>0</td>\n",
       "    </tr>\n",
       "    <tr>\n",
       "      <th>4456</th>\n",
       "      <td>5.378</td>\n",
       "      <td>9.001</td>\n",
       "      <td>2.279</td>\n",
       "      <td>0.277</td>\n",
       "      <td>0.000</td>\n",
       "      <td>11.557</td>\n",
       "      <td>0</td>\n",
       "    </tr>\n",
       "    <tr>\n",
       "      <th>4457</th>\n",
       "      <td>5.411</td>\n",
       "      <td>10.122</td>\n",
       "      <td>2.339</td>\n",
       "      <td>0.588</td>\n",
       "      <td>0.000</td>\n",
       "      <td>13.049</td>\n",
       "      <td>0</td>\n",
       "    </tr>\n",
       "    <tr>\n",
       "      <th>4458</th>\n",
       "      <td>5.398</td>\n",
       "      <td>9.169</td>\n",
       "      <td>2.294</td>\n",
       "      <td>0.447</td>\n",
       "      <td>0.000</td>\n",
       "      <td>11.910</td>\n",
       "      <td>0</td>\n",
       "    </tr>\n",
       "    <tr>\n",
       "      <th>4459</th>\n",
       "      <td>5.445</td>\n",
       "      <td>8.142</td>\n",
       "      <td>2.525</td>\n",
       "      <td>0.547</td>\n",
       "      <td>0.000</td>\n",
       "      <td>11.214</td>\n",
       "      <td>0</td>\n",
       "    </tr>\n",
       "    <tr>\n",
       "      <th>4460</th>\n",
       "      <td>5.512</td>\n",
       "      <td>11.009</td>\n",
       "      <td>1.297</td>\n",
       "      <td>0.068</td>\n",
       "      <td>0.551</td>\n",
       "      <td>12.924</td>\n",
       "      <td>0</td>\n",
       "    </tr>\n",
       "  </tbody>\n",
       "</table>\n",
       "<p>4461 rows × 7 columns</p>\n",
       "</div>"
      ],
      "text/plain": [
       "          H2     CH4   C2H6   C2H4   C2H2   total  label\n",
       "0     10.300   4.500  1.300  0.500  0.000   6.300      0\n",
       "1     10.300   4.500  1.300  0.500  0.000   6.300      0\n",
       "2     10.400   4.000  1.600  0.700  0.000   6.300      0\n",
       "3     10.300   3.600  1.800  0.800  0.000   6.200      0\n",
       "4     10.200   3.900  1.100  0.700  0.000   5.700      0\n",
       "5     10.100   5.200  0.400  0.600  0.000   6.200      0\n",
       "6     10.000   3.900  1.500  0.500  0.000   5.900      0\n",
       "7     10.300   5.400  0.400  0.400  0.000   6.200      0\n",
       "8     10.400   3.900  1.300  0.800  0.000   6.000      0\n",
       "9     10.500   3.900  1.600  0.800  0.000   6.300      0\n",
       "10    10.400   4.300  1.200  0.500  0.000   6.000      0\n",
       "11    10.400   3.500  1.700  0.400  0.000   5.600      0\n",
       "12    10.200   4.300  1.800  0.400  0.000   6.500      0\n",
       "13    10.200   3.700  1.900  0.800  0.000   6.400      0\n",
       "14    10.900   4.600  1.000  0.400  0.000   6.000      0\n",
       "15    10.900   3.200  1.400  0.400  0.000   5.000      0\n",
       "16    10.900   3.400  2.100  0.500  0.000   6.000      0\n",
       "17    11.000   4.300  1.100  0.700  0.000   6.100      0\n",
       "18    10.900   5.500  0.300  0.500  0.000   6.300      0\n",
       "19    10.800   4.800  1.100  0.400  0.000   6.300      0\n",
       "20    10.800   3.900  1.600  0.800  0.000   6.300      0\n",
       "21    10.900   5.400  1.200  0.700  0.000   7.300      0\n",
       "22    10.900   4.700  0.900  0.700  0.000   6.300      0\n",
       "23    10.700   4.300  1.300  0.500  0.000   6.100      0\n",
       "24    10.600   4.200  1.400  0.700  0.000   6.300      0\n",
       "25    10.500   4.700  1.100  0.700  0.000   6.500      0\n",
       "26    10.700   5.000  1.000  0.400  0.000   6.400      0\n",
       "27    10.500   4.000  1.300  0.500  0.000   5.800      0\n",
       "28    10.800   4.100  1.300  0.100  0.000   5.500      0\n",
       "29    10.700   4.500  1.100  0.600  0.000   6.200      0\n",
       "...      ...     ...    ...    ...    ...     ...    ...\n",
       "4431   5.501   9.544  2.237  0.143  0.000  11.924      0\n",
       "4432   5.508   9.691  3.659  0.245  0.002  13.596      0\n",
       "4433   5.566  10.502  2.602  0.284  0.000  13.387      0\n",
       "4434   5.430   9.296  3.099  0.045  0.000  12.440      0\n",
       "4435   5.445  10.854  1.863  0.248  0.290  13.254      0\n",
       "4436   5.387  10.007  2.723  0.418  0.000  13.148      0\n",
       "4437   5.229  10.767  2.297  0.642  0.404  14.110      0\n",
       "4438   5.258  10.451  2.103  0.156  0.000  12.711      0\n",
       "4439   5.252   9.173  2.536  0.418  0.000  12.127      0\n",
       "4440   5.298   8.978  3.068  0.331  0.000  12.377      0\n",
       "4441   5.299   8.347  3.009  0.197  0.000  11.552      0\n",
       "4442   5.368   9.120  2.693  0.140  0.463  12.416      0\n",
       "4443   5.333   8.851  1.953  0.120  0.000  10.925      0\n",
       "4444   5.302   8.790  2.754  0.277  0.000  11.821      0\n",
       "4445   5.299   8.560  2.873  0.061  0.000  11.493      0\n",
       "4446   5.254   7.672  3.657  0.204  0.000  11.533      0\n",
       "4447   5.341  10.302  1.126  0.318  0.000  11.746      0\n",
       "4448   5.341   9.728  0.857  0.246  0.000  10.831      0\n",
       "4449   5.174   7.980  3.576  0.511  0.000  12.067      0\n",
       "4450   5.253   9.185  2.020  0.146  0.000  11.351      0\n",
       "4451   5.357  10.394  1.565  0.207  0.000  12.166      0\n",
       "4452   5.312   9.653  1.416  0.451  0.000  11.520      0\n",
       "4453   5.366  10.300  1.693  0.322  0.000  12.316      0\n",
       "4454   5.441   9.209  2.876  0.432  0.000  12.517      0\n",
       "4455   5.421  10.144  0.860  0.710  0.000  11.713      0\n",
       "4456   5.378   9.001  2.279  0.277  0.000  11.557      0\n",
       "4457   5.411  10.122  2.339  0.588  0.000  13.049      0\n",
       "4458   5.398   9.169  2.294  0.447  0.000  11.910      0\n",
       "4459   5.445   8.142  2.525  0.547  0.000  11.214      0\n",
       "4460   5.512  11.009  1.297  0.068  0.551  12.924      0\n",
       "\n",
       "[4461 rows x 7 columns]"
      ]
     },
     "execution_count": 47,
     "metadata": {},
     "output_type": "execute_result"
    }
   ],
   "source": [
    "raw_data.set_value(col='label',value=1,index=raw_data[raw_data.C2H2 - 0.8 > 1e-5].index)"
   ]
  },
  {
   "cell_type": "code",
   "execution_count": 51,
   "metadata": {},
   "outputs": [],
   "source": [
    "dataset = pd.concat([raw_data,err_data])"
   ]
  },
  {
   "cell_type": "code",
   "execution_count": 52,
   "metadata": {
    "collapsed": true
   },
   "outputs": [],
   "source": [
    "dataset = dataset.sample(n=dataset.shape[0])"
   ]
  },
  {
   "cell_type": "code",
   "execution_count": 55,
   "metadata": {},
   "outputs": [
    {
     "data": {
      "text/plain": [
       "Counter({0: 4472, 1: 188})"
      ]
     },
     "execution_count": 55,
     "metadata": {},
     "output_type": "execute_result"
    }
   ],
   "source": [
    "Counter(dataset.label)"
   ]
  },
  {
   "cell_type": "code",
   "execution_count": null,
   "metadata": {
    "collapsed": true
   },
   "outputs": [],
   "source": []
  },
  {
   "cell_type": "code",
   "execution_count": null,
   "metadata": {
    "collapsed": true
   },
   "outputs": [],
   "source": []
  },
  {
   "cell_type": "code",
   "execution_count": null,
   "metadata": {
    "collapsed": true
   },
   "outputs": [],
   "source": []
  }
 ],
 "metadata": {
  "kernelspec": {
   "display_name": "Python 3",
   "language": "python",
   "name": "python3"
  },
  "language_info": {
   "codemirror_mode": {
    "name": "ipython",
    "version": 3
   },
   "file_extension": ".py",
   "mimetype": "text/x-python",
   "name": "python",
   "nbconvert_exporter": "python",
   "pygments_lexer": "ipython3",
   "version": "3.5.3"
  }
 },
 "nbformat": 4,
 "nbformat_minor": 2
}
